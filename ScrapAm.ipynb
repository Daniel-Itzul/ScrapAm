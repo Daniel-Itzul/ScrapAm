{
 "cells": [
  {
   "cell_type": "code",
   "execution_count": 1,
   "metadata": {},
   "outputs": [],
   "source": [
    "import requests\n",
    "import lxml\n",
    "from bs4 import BeautifulSoup as bSoup\n",
    "import pandas as pd"
   ]
  },
  {
   "cell_type": "code",
   "execution_count": 2,
   "metadata": {},
   "outputs": [],
   "source": [
    "url = 'https://www.amazon.co.uk/gp/bestsellers/computers/430594031/ref=pd_zg_hrsr_computers?fbclid=IwAR2UA1wEfy8AraOyhbecXBgdvxIn6Ki9DikwZRbhmEdhspFp3wpfGO0G_8o'"
   ]
  },
  {
   "cell_type": "code",
   "execution_count": 92,
   "metadata": {},
   "outputs": [],
   "source": [
    "test = getSoup(url)"
   ]
  },
  {
   "cell_type": "code",
   "execution_count": 3,
   "metadata": {},
   "outputs": [],
   "source": [
    "def getSoup(url):\n",
    "    response = requests.get(url)\n",
    "    responseParsed = bSoup(response.text, 'lxml')\n",
    "    return responseParsed"
   ]
  },
  {
   "cell_type": "code",
   "execution_count": 4,
   "metadata": {},
   "outputs": [],
   "source": [
    "def getElementSet(mainSoup):\n",
    "    products = mainSoup.find_all('span', class_='aok-inline-block zg-item')\n",
    "    return products"
   ]
  },
  {
   "cell_type": "code",
   "execution_count": 5,
   "metadata": {},
   "outputs": [],
   "source": [
    "def cleanText(string):\n",
    "    string = string.replace('\\n',\"\")\n",
    "    string = string.replace('\\r',\"\").strip()\n",
    "    return string"
   ]
  },
  {
   "cell_type": "code",
   "execution_count": 9,
   "metadata": {},
   "outputs": [],
   "source": [
    "def getElement (parent, tag, class_):\n",
    "    if parent.find(tag, class_=class_) == None:\n",
    "        return (None)\n",
    "    else:\n",
    "        return cleanText(parent.find(tag, class_=class_).text)"
   ]
  },
  {
   "cell_type": "code",
   "execution_count": 89,
   "metadata": {},
   "outputs": [],
   "source": [
    "def getTotalPages(mainSoup):\n",
    "    pagination = mainSoup.find('ul', class_='a-pagination')\n",
    "    if pagination.find('li', class_='a-last') == None:\n",
    "        return (None)\n",
    "    else:\n",
    "        lastPage = pagination.find('li', class_='a-last')\n",
    "        totalPages = lastPage.a['href'][lastPage.a['href'].find('pg'):len(lastPage.a['href'])]\n",
    "        linkStruct = lastPage.a['href'][0:lastPage.a['href'].find('pg')-1]\n",
    "        numberPages = int(totalPages[totalPages.find('=')+1:len(totalPages)])\n",
    "        return linkStruct, numberPages"
   ]
  },
  {
   "cell_type": "code",
   "execution_count": 96,
   "metadata": {},
   "outputs": [],
   "source": [
    "def makeLinkCollection(mainSoup):\n",
    "    linkCollection = []\n",
    "    if getTotalPages(mainSoup) == None:\n",
    "        return None\n",
    "    else:\n",
    "        for i in range(1,getTotalPages(mainSoup)[1]+1):\n",
    "            linkCollection.append(getTotalPages(mainSoup)[0]+'&pg='+str(i))\n",
    "        return(linkCollection)"
   ]
  },
  {
   "cell_type": "code",
   "execution_count": 97,
   "metadata": {},
   "outputs": [],
   "source": [
    "links = makeLinkCollection(test)"
   ]
  },
  {
   "cell_type": "code",
   "execution_count": 98,
   "metadata": {},
   "outputs": [
    {
     "name": "stdout",
     "output_type": "stream",
     "text": [
      "['https://www.amazon.co.uk/Best-Sellers-Computers-Accessories-Computer-Microphones/zgbs/computers/430594031?_encoding=UTF8&pg=1', 'https://www.amazon.co.uk/Best-Sellers-Computers-Accessories-Computer-Microphones/zgbs/computers/430594031?_encoding=UTF8&pg=2']\n"
     ]
    }
   ],
   "source": [
    "print(links)"
   ]
  },
  {
   "cell_type": "code",
   "execution_count": 84,
   "metadata": {},
   "outputs": [],
   "source": [
    "def productParsing (product):\n",
    "    Product = {}\n",
    "    name = getElement(product,'div', class_='p13n-sc-truncate')\n",
    "    price = getElement(product,'span', class_='p13n-sc-price') \n",
    "    stars = getElement(product,'span', class_='a-icon-alt')\n",
    "    Product = {\"Name\":name,\"Price\":price,\"Stars\":stars}\n",
    "    return Product"
   ]
  },
  {
   "cell_type": "code",
   "execution_count": 87,
   "metadata": {},
   "outputs": [],
   "source": [
    "collection = []\n",
    "x = 0\n",
    "for product in products:\n",
    "    collection.append(productParsing(product))\n",
    "    x = x+1"
   ]
  },
  {
   "cell_type": "code",
   "execution_count": 91,
   "metadata": {},
   "outputs": [],
   "source": [
    "dataframe = pd.DataFrame (collection)"
   ]
  },
  {
   "cell_type": "code",
   "execution_count": null,
   "metadata": {},
   "outputs": [],
   "source": []
  },
  {
   "cell_type": "code",
   "execution_count": 16,
   "metadata": {},
   "outputs": [],
   "source": []
  },
  {
   "cell_type": "code",
   "execution_count": null,
   "metadata": {},
   "outputs": [],
   "source": []
  },
  {
   "cell_type": "code",
   "execution_count": null,
   "metadata": {},
   "outputs": [],
   "source": []
  },
  {
   "cell_type": "code",
   "execution_count": null,
   "metadata": {},
   "outputs": [],
   "source": []
  },
  {
   "cell_type": "code",
   "execution_count": null,
   "metadata": {},
   "outputs": [],
   "source": []
  }
 ],
 "metadata": {
  "kernelspec": {
   "display_name": "Python 3",
   "language": "python",
   "name": "python3"
  },
  "language_info": {
   "codemirror_mode": {
    "name": "ipython",
    "version": 3
   },
   "file_extension": ".py",
   "mimetype": "text/x-python",
   "name": "python",
   "nbconvert_exporter": "python",
   "pygments_lexer": "ipython3",
   "version": "3.7.4"
  }
 },
 "nbformat": 4,
 "nbformat_minor": 2
}
