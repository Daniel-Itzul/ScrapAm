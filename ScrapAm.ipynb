{
 "cells": [
  {
   "cell_type": "code",
   "execution_count": 1,
   "metadata": {},
   "outputs": [],
   "source": [
    "import requests\n",
    "import lxml\n",
    "from bs4 import BeautifulSoup as bSoup"
   ]
  },
  {
   "cell_type": "code",
   "execution_count": 2,
   "metadata": {},
   "outputs": [],
   "source": [
    "url = 'https://www.amazon.co.uk/gp/bestsellers/computers/430594031/ref=pd_zg_hrsr_computers?fbclid=IwAR2UA1wEfy8AraOyhbecXBgdvxIn6Ki9DikwZRbhmEdhspFp3wpfGO0G_8o'\n",
    "response = requests.get(url)"
   ]
  },
  {
   "cell_type": "code",
   "execution_count": 3,
   "metadata": {},
   "outputs": [],
   "source": [
    "responseParsed = bSoup(response.text, 'lxml')\n",
    "products = responseParsed.find_all('span', class_='aok-inline-block zg-item')"
   ]
  },
  {
   "cell_type": "code",
   "execution_count": 71,
   "metadata": {},
   "outputs": [],
   "source": [
    "def cleanText(string):\n",
    "    string = string.replace('\\n',\"\")\n",
    "    string = string.replace('\\r',\"\").strip()\n",
    "    return string"
   ]
  },
  {
   "cell_type": "code",
   "execution_count": 121,
   "metadata": {},
   "outputs": [],
   "source": [
    "def productParsing (product):\n",
    "    Product = {}\n",
    "    name = cleanText(product.find('div', class_='p13n-sc-truncate').text)\n",
    "    price = cleanText(product.find('span', class_='p13n-sc-price').text)\n",
    "    stars = cleanText(product.find('span', class_='a-icon-alt').text)\n",
    "    Product = {\"Name\":name,\"Price\":price,\"Stars\":stars}\n",
    "    return Product"
   ]
  },
  {
   "cell_type": "code",
   "execution_count": null,
   "metadata": {},
   "outputs": [],
   "source": []
  },
  {
   "cell_type": "code",
   "execution_count": 106,
   "metadata": {},
   "outputs": [],
   "source": [
    "test = productParsing(products[49])"
   ]
  },
  {
   "cell_type": "code",
   "execution_count": 107,
   "metadata": {},
   "outputs": [
    {
     "data": {
      "text/plain": [
       "{'Name': 'USB Conference Microphone, ZHIHUM 360° Omnidictional Desktop PC Mic with Mute Button for Conference, Skype, Classes, Gaming, Court Reporter, Escape Room Compatible for Mac OS, Windows Computer',\n",
       " 'Price': '£37.99',\n",
       " 'Stars': '5.0 out of 5 stars'}"
      ]
     },
     "execution_count": 107,
     "metadata": {},
     "output_type": "execute_result"
    }
   ],
   "source": [
    "test"
   ]
  },
  {
   "cell_type": "code",
   "execution_count": 122,
   "metadata": {},
   "outputs": [
    {
     "name": "stdout",
     "output_type": "stream",
     "text": [
      "0   {'Name': 'DISDIM PC Microphone, 3.5mm Jack Condenser Recording Microphone with Mic Stand for PC, Laptop, iPh0ne, iP@d, Mac, Smartphone - Gaming, Singing, YouTube, Skype (Black)', 'Price': '£20.99', 'Stars': '3.6 out of 5 stars'}\n",
      "1   {'Name': 'TONOR PC Microphone USB Computer Condenser Gaming Mic Plug & Play with Tripod Stand & Pop Filter for Vocal Recording, Podcasting, Streaming for iMac PC Laptop Desktop Windows Computer', 'Price': '£40.99', 'Stars': '4.6 out of 5 stars'}\n",
      "2   {'Name': 'USB PC Microphone, TKGOU Ture Plug & Play Home Studio USB Computer Microphone With mute button, - Compatible with PC, laptop, Mac, ps4 - ideal for Youtube,Skype,Gaming,Podcast(1.5m /5ft)', 'Price': '£20.39', 'Stars': '4.4 out of 5 stars'}\n",
      "3   {'Name': 'Trust Gaming GXT 232 Mantis Streaming PC Gaming Microphone, USB Connected, Including Shock Mount, Pop Filter and Tripod Stand, Black', 'Price': '£34.53', 'Stars': '4.0 out of 5 stars'}\n",
      "4   {'Name': 'TONOR Conference USB Microphone, Omnidirectional Condenser PC Mic for Video Conference, Recording, Skype, Online Class, Court Reporter, Plug & Play Compatible with Mac OS X Windows PC Compute', 'Price': '£34.99', 'Stars': '4.5 out of 5 stars'}\n",
      "5   {'Name': 'PICTEK Mechanical Gaming Keyboard, Blue Switch Mechanical Keyboard Wired with 87 Keys Full Anti-ghosting, Customizable LED Backlit Ideal for Gamer, Typist etc. - US Layout', 'Price': '£37.99', 'Stars': '4.2 out of 5 stars'}\n",
      "6   {'Name': 'AOBETAK External PC Microphone with Stand for PC and Smartphone, Professional 3.5mm Jack Condenser Mic with 3.5mm Stereo Jack Splitter, for Loptop iPad Mac- Recorder Singing YouTube Skype, Black', 'Price': '£18.89', 'Stars': '3.5 out of 5 stars'}\n",
      "7   {'Name': 'PC microphone,FIFINE Plug &Play Home Studio Cardioid USB Condenser Microphone for Skype, Recordings for YouTube, Google Voice Search, Games(Windows/Mac)-K668', 'Price': '£39.99', 'Stars': '4.4 out of 5 stars'}\n",
      "8   {'Name': 'USB Microphone,Z ZAFFIRO Computer Microphone Plug & Play Home Studio USB Condenser Microphone for PC/Desktop/Laptop/Notebook,Recording for YouTube,Podcasting,Gaming', 'Price': '£24.99', 'Stars': '4.2 out of 5 stars'}\n",
      "9   {'Name': 'KLIM™ Talk - Tabletop USB Microphone for PC and Mac - Compatible with any Computer - Professional Desktop Microphone - High Definition Audio - New 2020 Version - Black', 'Price': '£34.97', 'Stars': '4.3 out of 5 stars'}\n",
      "10   {'Name': 'Ankuka Conference USB Microphone, Portable Stereo Omnidirectional Condenser PC Microphone for Business Video Conference, Recording, Chat, Skype, Online Class, Desktop, Laptop, Plug & Play', 'Price': '£29.99', 'Stars': '4.7 out of 5 stars'}\n",
      "11   {'Name': 'USB Microphone,iGOKU Lavalier Clip-on Omnidirectional Condenser Mini Mic for Laptop/PC/Macbook Microphone for Interviews,Skype,Video Recording,Online Chatting for MSN,Skype,Podcast and Gaming', 'Price': '£15.99', 'Stars': '4.2 out of 5 stars'}\n",
      "12   {'Name': 'PC/Phone Microphone, EIVOTOR 3.5mm Professional Condenser Microphone Plug and Play, Recording Microphone with Mic Stand for Karaoke,Youtube, MSN, Facebook, Skype Online Chatting, Gaming, Podcasting', 'Price': '£24.98', 'Stars': '4.0 out of 5 stars'}\n",
      "13   {'Name': 'Mini USB 2.0 Microphone Mic for Laptop/desktop PCS - Skype/Voice Recognition Software Driver-free Audio Receiver Adapter for MSN PC Notebook. (black)', 'Price': '£7.76', 'Stars': '1.0 out of 5 stars'}\n",
      "14   {'Name': 'Cable Boom Microphone for PlayStation PS4 or Xbox One Controller, PC, Tablet,Laptop, Smartphone - Boompro Gaming Mic Compatible with V-Moda Or Other 3.5mm Jack Headphone with Volume Control(150CM)', 'Price': '£19.99', 'Stars': '4.1 out of 5 stars'}\n",
      "15   {'Name': 'USB Computer Microphone, Lauva Plug & Play Desktop Gooseneck Omnidirectional Condenser PC Laptop Mic for Gaming Singing Streaming OBS Podcast Recording Facebook Skype YouTube Online Chatting', 'Price': '£15.99', 'Stars': '3.6 out of 5 stars'}\n",
      "16   {'Name': 'USB Computer Microphone, Plug &Play Desktop Omnidirectional Condenser PC Laptop Mic,Mute Button with LED indicator, compatible with Windows/Mac, ideal for Youtube,Skype,Recording,Games(1.5m /5ft)', 'Price': '£29.99', 'Stars': '4.4 out of 5 stars'}\n",
      "17   {'Name': 'USB Lavalier Microphone,Fifine Clip-on Cardioid Condenser Computer mic Plug and Play USB Lapel Microphone with Sound Card for PC and Mac-K053', 'Price': '£23.99', 'Stars': '4.0 out of 5 stars'}\n",
      "18   {'Name': 'TRIXES Mini Flexible Microphone 3.5mm - Mic for PC Laptop for Online Chatting, Audio Recording, Interviews, Skype, Video Recording, Vlogs, MSN, Podcasts and Gaming', 'Price': '£4.49', 'Stars': '3.2 out of 5 stars'}\n",
      "19   {'Name': 'XIAOKOA USB Microphone for Windows and Mac, Professional PC Microphone with Built-in LED Light for Computer, Laptop, Desktop and Notebook, Plug and Play Mic', 'Price': '£21.99', 'Stars': '4.3 out of 5 stars'}\n",
      "20   {'Name': 'Antlion Audio ModMic USB Attachable Noise-Cancelling Microphone with Mute Switch Compatible with Mac, Windows PC, Playstation 4, and More (GDL-1500 USB-A)', 'Price': '£77.99', 'Stars': '4.3 out of 5 stars'}\n",
      "21   {'Name': 'Docooler Stereo Omnidirectional Microphone Condenser Mic USB Connector for Meeting Business Conference Computer Laptop', 'Price': '£19.89', 'Stars': '4.1 out of 5 stars'}\n",
      "22   {'Name': 'Blue Yeti x Professional Condenser USB Microphone with High-Res Metering, LED Lighting and Vo.Ce effects for Gaming, Streaming and Podcasting on PC and Mac - Blackout', 'Price': '£159.98', 'Stars': '4.5 out of 5 stars'}\n",
      "23   {'Name': 'ZAFFIRO Computer Microphone,PC Microphone Plug & Play 3.5mm Home Studio Condenser Microphone for Desktop/Laptop/Notebook,Recording for YouTube,Podcasting,Gaming,Online Chatting,Black', 'Price': '£15.99', 'Stars': '3.4 out of 5 stars'}\n",
      "24   {'Name': 'MTFY USB Conference Microphone, Desktop Omnidirectional Condenser Boundary PC Computer Laptop Mic with Mute Function for Recording, Video Meeting, Gaming, Skype, VoIP Calls (Window/Mac)', 'Price': '£32.99', 'Stars': '5.0 out of 5 stars'}\n"
     ]
    },
    {
     "ename": "AttributeError",
     "evalue": "'NoneType' object has no attribute 'text'",
     "output_type": "error",
     "traceback": [
      "\u001b[0;31m---------------------------------------------------------------------------\u001b[0m",
      "\u001b[0;31mAttributeError\u001b[0m                            Traceback (most recent call last)",
      "\u001b[0;32m<ipython-input-122-2e5fbd7dc96c>\u001b[0m in \u001b[0;36m<module>\u001b[0;34m\u001b[0m\n\u001b[1;32m      1\u001b[0m \u001b[0mx\u001b[0m \u001b[0;34m=\u001b[0m \u001b[0;36m0\u001b[0m\u001b[0;34m\u001b[0m\u001b[0;34m\u001b[0m\u001b[0m\n\u001b[1;32m      2\u001b[0m \u001b[0;32mfor\u001b[0m \u001b[0mproduct\u001b[0m \u001b[0;32min\u001b[0m \u001b[0mproducts\u001b[0m\u001b[0;34m:\u001b[0m\u001b[0;34m\u001b[0m\u001b[0;34m\u001b[0m\u001b[0m\n\u001b[0;32m----> 3\u001b[0;31m     \u001b[0mprint\u001b[0m\u001b[0;34m(\u001b[0m\u001b[0mx\u001b[0m\u001b[0;34m,\u001b[0m \u001b[0;34m\" \"\u001b[0m\u001b[0;34m,\u001b[0m \u001b[0mproductParsing\u001b[0m\u001b[0;34m(\u001b[0m\u001b[0mproduct\u001b[0m\u001b[0;34m)\u001b[0m\u001b[0;34m)\u001b[0m\u001b[0;34m\u001b[0m\u001b[0;34m\u001b[0m\u001b[0m\n\u001b[0m\u001b[1;32m      4\u001b[0m     \u001b[0mx\u001b[0m \u001b[0;34m=\u001b[0m \u001b[0mx\u001b[0m\u001b[0;34m+\u001b[0m\u001b[0;36m1\u001b[0m\u001b[0;34m\u001b[0m\u001b[0;34m\u001b[0m\u001b[0m\n",
      "\u001b[0;32m<ipython-input-121-beee6b3dfdf8>\u001b[0m in \u001b[0;36mproductParsing\u001b[0;34m(product)\u001b[0m\n\u001b[1;32m      3\u001b[0m     \u001b[0mname\u001b[0m \u001b[0;34m=\u001b[0m \u001b[0mcleanText\u001b[0m\u001b[0;34m(\u001b[0m\u001b[0mproduct\u001b[0m\u001b[0;34m.\u001b[0m\u001b[0mfind\u001b[0m\u001b[0;34m(\u001b[0m\u001b[0;34m'div'\u001b[0m\u001b[0;34m,\u001b[0m \u001b[0mclass_\u001b[0m\u001b[0;34m=\u001b[0m\u001b[0;34m'p13n-sc-truncate'\u001b[0m\u001b[0;34m)\u001b[0m\u001b[0;34m.\u001b[0m\u001b[0mtext\u001b[0m\u001b[0;34m)\u001b[0m\u001b[0;34m\u001b[0m\u001b[0;34m\u001b[0m\u001b[0m\n\u001b[1;32m      4\u001b[0m     \u001b[0mprice\u001b[0m \u001b[0;34m=\u001b[0m \u001b[0mcleanText\u001b[0m\u001b[0;34m(\u001b[0m\u001b[0mproduct\u001b[0m\u001b[0;34m.\u001b[0m\u001b[0mfind\u001b[0m\u001b[0;34m(\u001b[0m\u001b[0;34m'span'\u001b[0m\u001b[0;34m,\u001b[0m \u001b[0mclass_\u001b[0m\u001b[0;34m=\u001b[0m\u001b[0;34m'p13n-sc-price'\u001b[0m\u001b[0;34m)\u001b[0m\u001b[0;34m.\u001b[0m\u001b[0mtext\u001b[0m\u001b[0;34m)\u001b[0m\u001b[0;34m\u001b[0m\u001b[0;34m\u001b[0m\u001b[0m\n\u001b[0;32m----> 5\u001b[0;31m     \u001b[0mstars\u001b[0m \u001b[0;34m=\u001b[0m \u001b[0mcleanText\u001b[0m\u001b[0;34m(\u001b[0m\u001b[0mproduct\u001b[0m\u001b[0;34m.\u001b[0m\u001b[0mfind\u001b[0m\u001b[0;34m(\u001b[0m\u001b[0;34m'span'\u001b[0m\u001b[0;34m,\u001b[0m \u001b[0mclass_\u001b[0m\u001b[0;34m=\u001b[0m\u001b[0;34m'a-icon-alt'\u001b[0m\u001b[0;34m)\u001b[0m\u001b[0;34m.\u001b[0m\u001b[0mtext\u001b[0m\u001b[0;34m)\u001b[0m\u001b[0;34m\u001b[0m\u001b[0;34m\u001b[0m\u001b[0m\n\u001b[0m\u001b[1;32m      6\u001b[0m     \u001b[0mProduct\u001b[0m \u001b[0;34m=\u001b[0m \u001b[0;34m{\u001b[0m\u001b[0;34m\"Name\"\u001b[0m\u001b[0;34m:\u001b[0m\u001b[0mname\u001b[0m\u001b[0;34m,\u001b[0m\u001b[0;34m\"Price\"\u001b[0m\u001b[0;34m:\u001b[0m\u001b[0mprice\u001b[0m\u001b[0;34m,\u001b[0m\u001b[0;34m\"Stars\"\u001b[0m\u001b[0;34m:\u001b[0m\u001b[0mstars\u001b[0m\u001b[0;34m}\u001b[0m\u001b[0;34m\u001b[0m\u001b[0;34m\u001b[0m\u001b[0m\n\u001b[1;32m      7\u001b[0m     \u001b[0;32mreturn\u001b[0m \u001b[0mProduct\u001b[0m\u001b[0;34m\u001b[0m\u001b[0;34m\u001b[0m\u001b[0m\n",
      "\u001b[0;31mAttributeError\u001b[0m: 'NoneType' object has no attribute 'text'"
     ]
    }
   ],
   "source": [
    "x = 0\n",
    "for product in products:\n",
    "    print(x, \" \", productParsing(product))\n",
    "    x = x+1"
   ]
  },
  {
   "cell_type": "code",
   "execution_count": 123,
   "metadata": {},
   "outputs": [
    {
     "name": "stdout",
     "output_type": "stream",
     "text": [
      "<span class=\"aok-inline-block zg-item\">\n",
      " <a class=\"a-link-normal\" href=\"/Microphone-Ankuka-Omnidirectional-Conference-Compatible/dp/B088M3WZNS?_encoding=UTF8&amp;psc=1\">\n",
      "  <span class=\"zg-text-center-align\">\n",
      "   <div class=\"a-section a-spacing-small\">\n",
      "    <img alt=\"PC Microphone 3.5mm, Ankuka Portable Omnidirectional Conference Microphone Plug and Play, Condenser Microphone for Recording, Skype Chatting, Online Meeting, Gaming, Compatible with PC/Laptop/iPad/Mac\" height=\"200\" src=\"https://images-eu.ssl-images-amazon.com/images/I/61Ir5UmnLPL._AC_UL200_SR200,200_.jpg\" width=\"200\"/>\n",
      "   </div>\n",
      "  </span>\n",
      "  <div aria-hidden=\"true\" class=\"p13n-sc-truncate p13n-sc-line-clamp-3\" data-rows=\"3\">\n",
      "   PC Microphone 3.5mm, Ankuka Portable Omnidirectional Conference Microphone Plug and Play, Condenser Microphone for Recording, Skype Chatting, Online Meeting, Gaming, Compatible with PC/Laptop/iPad/Mac\n",
      "  </div>\n",
      " </a>\n",
      " <div class=\"a-row\">\n",
      "  <a class=\"a-link-normal a-text-normal\" href=\"/Microphone-Ankuka-Omnidirectional-Conference-Compatible/dp/B088M3WZNS?_encoding=UTF8&amp;psc=1\">\n",
      "   <span class=\"a-size-base a-color-price\">\n",
      "    <span class=\"p13n-sc-price\">\n",
      "     £15.99\n",
      "    </span>\n",
      "   </span>\n",
      "  </a>\n",
      " </div>\n",
      "</span>\n"
     ]
    }
   ],
   "source": [
    "print(products[25].prettify())"
   ]
  },
  {
   "cell_type": "code",
   "execution_count": null,
   "metadata": {},
   "outputs": [],
   "source": []
  }
 ],
 "metadata": {
  "kernelspec": {
   "display_name": "Python 3",
   "language": "python",
   "name": "python3"
  },
  "language_info": {
   "codemirror_mode": {
    "name": "ipython",
    "version": 3
   },
   "file_extension": ".py",
   "mimetype": "text/x-python",
   "name": "python",
   "nbconvert_exporter": "python",
   "pygments_lexer": "ipython3",
   "version": "3.7.4"
  }
 },
 "nbformat": 4,
 "nbformat_minor": 2
}
